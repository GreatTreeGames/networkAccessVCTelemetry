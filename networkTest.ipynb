{
 "cells": [
  {
   "cell_type": "code",
   "execution_count": 1,
   "id": "1d1b0d64",
   "metadata": {},
   "outputs": [],
   "source": [
    "# fetch credentials from file\n",
    "file_path = 'C:/Users/user/Documents/yourCredentials/credentials.txt'\n",
    "\n",
    "with open(file_path, 'r') as file:\n",
    "        lines = file.readlines()\n",
    "        sql_username = lines[0].strip()\n",
    "        sql_pass = lines[1].strip()\n",
    "        hostname = lines[2].strip()"
   ]
  },
  {
   "cell_type": "code",
   "execution_count": null,
   "id": "45c8dfef",
   "metadata": {},
   "outputs": [],
   "source": [
    "import pymysql\n",
    "from pymysql.cursors import DictCursor\n",
    "import csv\n",
    "\n",
    "# Database configuration\n",
    "db_config = {\n",
    "    'host': hostname,\n",
    "    'port': 3306,\n",
    "    'user': sql_username,\n",
    "    'password': sql_pass,\n",
    "    'db': 'IHIanonTelemetry',\n",
    "    'cursorclass': DictCursor\n",
    "}\n",
    "\n",
    "# query\n",
    "sql_query = \"SELECT * FROM tutorialStarted;\"  \n",
    "\n",
    "try:\n",
    "    # Establish connection to the remote database\n",
    "    connection = pymysql.connect(**db_config)\n",
    "    print(\"Connection established successfully!\")\n",
    "\n",
    "    try:\n",
    "        with connection.cursor() as cursor:\n",
    "            cursor.execute(sql_query)\n",
    "            results = cursor.fetchall()\n",
    "\n",
    "            # Process and print the results\n",
    "            print(\"Query executed successfully. Fetched data:\")\n",
    "            with open('output.csv', mode='w', newline= '', encoding='utf-8') as csvfile:\n",
    "                fieldnames = ['telemetryPingID', 'sessionID', 'userID', 'timestamp', 'gametime']\n",
    "                writer = csv.DictWriter(csvfile, fieldnames=fieldnames)\n",
    "                headerwriter = csv.writer(csvfile)\n",
    "                headerwriter.writerow(fieldnames)\n",
    "                for row in results:\n",
    "                    writer.writerow(row)\n",
    "                    print(row)\n",
    "                \n",
    "    except Exception as query_error:\n",
    "        print(\"Error during query execution:\", query_error)\n",
    "    \n",
    "except Exception as conn_error:\n",
    "    print(\"Error connecting to database:\", conn_error)\n",
    "\n",
    "finally:\n",
    "    if 'connection' in locals() and connection.open:\n",
    "        connection.close()\n",
    "        print(\"Database connection closed.\")"
   ]
  }
 ],
 "metadata": {
  "kernelspec": {
   "display_name": "networkTest",
   "language": "python",
   "name": "python3"
  },
  "language_info": {
   "codemirror_mode": {
    "name": "ipython",
    "version": 3
   },
   "file_extension": ".py",
   "mimetype": "text/x-python",
   "name": "python",
   "nbconvert_exporter": "python",
   "pygments_lexer": "ipython3",
   "version": "3.12.9"
  }
 },
 "nbformat": 4,
 "nbformat_minor": 5
}
