{
 "cells": [
  {
   "cell_type": "code",
   "execution_count": 1,
   "id": "1d1b0d64",
   "metadata": {},
   "outputs": [],
   "source": [
    "# fetch credentials from file\n",
    "file_path = 'C:/Users/user/Documents/yourCredentials/credentials.txt'\n",
    "\n",
    "with open(file_path, 'r') as file:\n",
    "        lines = file.readlines()\n",
    "        sql_username = lines[0].strip()\n",
    "        sql_pass = lines[1].strip()\n",
    "        hostname = lines[2].strip()"
   ]
  },
  {
   "cell_type": "code",
   "execution_count": 2,
   "id": "45c8dfef",
   "metadata": {},
   "outputs": [
    {
     "name": "stdout",
     "output_type": "stream",
     "text": [
      "Connection established successfully!\n",
      "Query executed successfully. Fetched data:\n",
      "{'telemetryPingID': 1, 'sessionID': '5175dfed-529b-4297-855a-7489e2dc71a1', 'userID': '381e604f-b5e0-4240-83ad-07207519addd', 'timestamp': '4/16/2025 2:53:19 PM', 'gametime': '29.4879'}\n",
      "{'telemetryPingID': 2, 'sessionID': 'f6c8fc25-d119-46f5-b7f3-4fa2ce6658a2', 'userID': '4572e36f-316a-4b38-8330-e17c62c08f5c', 'timestamp': '5/1/2025 2:47:03 AM', 'gametime': '7047.563'}\n",
      "Database connection closed.\n"
     ]
    }
   ],
   "source": [
    "import pymysql\n",
    "from pymysql.cursors import DictCursor\n",
    "\n",
    "\n",
    "# Database configuration\n",
    "db_config = {\n",
    "    'host': hostname,\n",
    "    'port': 3306,\n",
    "    'user': sql_username,\n",
    "    'password': sql_pass,\n",
    "    'db': 'IHIanonTelemetry',\n",
    "    'cursorclass': DictCursor\n",
    "}\n",
    "\n",
    "# query\n",
    "sql_query = \"SELECT * FROM tutorialStarted;\"  \n",
    "\n",
    "try:\n",
    "    # Establish connection to the remote database\n",
    "    connection = pymysql.connect(**db_config)\n",
    "    print(\"Connection established successfully!\")\n",
    "\n",
    "    try:\n",
    "        with connection.cursor() as cursor:\n",
    "            cursor.execute(sql_query)\n",
    "            results = cursor.fetchall()\n",
    "\n",
    "            # Process and print the results\n",
    "            print(\"Query executed successfully. Fetched data:\")\n",
    "            for row in results:\n",
    "                print(row)\n",
    "                \n",
    "    except Exception as query_error:\n",
    "        print(\"Error during query execution:\", query_error)\n",
    "    \n",
    "except Exception as conn_error:\n",
    "    print(\"Error connecting to database:\", conn_error)\n",
    "\n",
    "finally:\n",
    "    if 'connection' in locals() and connection.open:\n",
    "        connection.close()\n",
    "        print(\"Database connection closed.\")"
   ]
  }
 ],
 "metadata": {
  "kernelspec": {
   "display_name": "networkTest",
   "language": "python",
   "name": "python3"
  },
  "language_info": {
   "codemirror_mode": {
    "name": "ipython",
    "version": 3
   },
   "file_extension": ".py",
   "mimetype": "text/x-python",
   "name": "python",
   "nbconvert_exporter": "python",
   "pygments_lexer": "ipython3",
   "version": "3.12.9"
  }
 },
 "nbformat": 4,
 "nbformat_minor": 5
}
